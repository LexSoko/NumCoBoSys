{
 "cells": [
  {
   "cell_type": "markdown",
   "metadata": {},
   "source": [
    "# A first finite DMRG Example\n",
    "\n",
    "This notebook shows the basic interface for DMRG.\n",
    "It initalized the Heisenberg model and runs DMRG to find the ground state."
   ]
  },
  {
   "cell_type": "code",
   "execution_count": null,
   "metadata": {},
   "outputs": [],
   "source": [
    "import numpy as np\n",
    "import scipy\n",
    "import matplotlib.pyplot as plt\n",
    "np.set_printoptions(precision=5, suppress=True, linewidth=100)\n",
    "plt.rcParams['figure.dpi'] = 150"
   ]
  },
  {
   "cell_type": "code",
   "execution_count": null,
   "metadata": {},
   "outputs": [],
   "source": [
    "import tenpy\n",
    "import tenpy.linalg.np_conserved as npc\n",
    "from tenpy.algorithms import dmrg\n",
    "from tenpy.networks.mps import MPS\n",
    "from tenpy.models.spins import SpinChain\n",
    "\n",
    "from tenpy.networks.site import SpinHalfSite\n",
    "from tenpy.models.lattice import Chain\n",
    "\n",
    "tenpy.tools.misc.setup_logging(to_stdout=\"INFO\")"
   ]
  },
  {
   "cell_type": "code",
   "execution_count": null,
   "metadata": {},
   "outputs": [],
   "source": [
    "# Define the length of the chain and initalize the model:\n",
    "\n",
    "L = 32\n",
    "model_params = {\n",
    "    'Jz': 1.,\n",
    "    'L': L,\n",
    "    'bc_MPS': 'finite',    \n",
    "}\n",
    "\n",
    "M = SpinChain(model_params)"
   ]
  },
  {
   "cell_type": "code",
   "execution_count": null,
   "metadata": {},
   "outputs": [],
   "source": [
    "# This inializes an MPS with Sz_tot = 0:\n",
    "\n",
    "psi = MPS.from_lat_product_state(M.lat, [['up'],['down']])"
   ]
  },
  {
   "cell_type": "code",
   "execution_count": null,
   "metadata": {},
   "outputs": [],
   "source": [
    "# This cell does the same as the one above, but gives access to the MPS.\n",
    "# One can use it the chain the initial MPS in some detail:\n",
    "\n",
    "site = SpinHalfSite(conserve='Sz')  # predefined charges and Sp,Sm,Sz operators\n",
    "p_leg = site.leg\n",
    "chinfo = p_leg.chinfo\n",
    "\n",
    "# create product state MPS\n",
    "state = [\"up\", \"down\"] * (L // 2) + [\"up\"] * (L % 2)  # Neel state\n",
    "#state = [\"up\"] * (L // 2) + [\"down\"] * (L - L // 2) \n",
    "\n",
    "# Switch one spin:\n",
    "state[0] = \"down\"\n",
    "print(\"state = \", state)\n",
    "\n",
    "psi = MPS.from_product_state(M.lat.mps_sites(), state, M.lat.bc_MPS)\n"
   ]
  },
  {
   "cell_type": "code",
   "execution_count": null,
   "metadata": {
    "scrolled": true
   },
   "outputs": [],
   "source": [
    "# This runs DMRG with some standard parameters:\n",
    "\n",
    "dmrg_params = {\n",
    "    'mixer': None,  # setting this to True helps to escape local minima\n",
    "    'max_E_err': 1.e-10,\n",
    "    'trunc_params': {\n",
    "        'chi_max': 100,\n",
    "        'svd_min': 1.e-10,\n",
    "    },\n",
    "    'verbose': True,\n",
    "    'combine': True\n",
    "}\n",
    "eng = dmrg.TwoSiteDMRGEngine(psi, M, dmrg_params) \n",
    "E, psi = eng.run() # the main work; modifies psi in place"
   ]
  },
  {
   "cell_type": "markdown",
   "metadata": {},
   "source": [
    "## Expectation Values"
   ]
  },
  {
   "cell_type": "code",
   "execution_count": null,
   "metadata": {},
   "outputs": [],
   "source": [
    "# onsite expectation values\n",
    "\n",
    "Z = psi.expectation_value(\"Sz\")\n",
    "x = np.arange(psi.L)\n",
    "\n",
    "plt.figure()\n",
    "plt.plot(x, Z, label=\"Z\")\n",
    "plt.xlabel(\"site\")\n",
    "plt.ylabel(\"onsite expectation value\")\n",
    "plt.legend()\n",
    "plt.show()"
   ]
  },
  {
   "cell_type": "code",
   "execution_count": null,
   "metadata": {},
   "outputs": [],
   "source": [
    "# correlation functions\n",
    "Z = psi.expectation_value(\"Sz\")\n",
    "\n",
    "i0 = psi.L // 4  # for fixed `i`\n",
    "j = np.arange(i0 + 1, psi.L)\n",
    "\n",
    "ZZ = psi.term_correlation_function_right([(\"Sz\", 0)], [(\"Sz\", 0)], i_L=i0, j_R=j)\n",
    "ZZ_disc = ZZ - Z[i0] * Z[j]\n",
    "\n",
    "dx = j - i0\n",
    "plt.figure()\n",
    "#plt.plot(dx, XX_disc, label=\"X X\")\n",
    "plt.plot(dx, ZZ_disc, label=\"Z Z\")\n",
    "plt.xlabel(r\"distance $|i-j|$\")\n",
    "plt.ylabel(r\"disconnected correlations $\\langle A_i A_j\\rangle - \\langle A_i \\rangle\\langle A_j\\rangle$\")\n",
    "plt.legend()\n",
    "#plt.loglog()\n",
    "plt.show()"
   ]
  },
  {
   "cell_type": "code",
   "execution_count": null,
   "metadata": {},
   "outputs": [],
   "source": [
    "print(j)"
   ]
  },
  {
   "cell_type": "code",
   "execution_count": null,
   "metadata": {},
   "outputs": [],
   "source": []
  }
 ],
 "metadata": {
  "kernelspec": {
   "display_name": "Python 3",
   "language": "python",
   "name": "python3"
  },
  "language_info": {
   "codemirror_mode": {
    "name": "ipython",
    "version": 3
   },
   "file_extension": ".py",
   "mimetype": "text/x-python",
   "name": "python",
   "nbconvert_exporter": "python",
   "pygments_lexer": "ipython3",
   "version": "3.9.9"
  }
 },
 "nbformat": 4,
 "nbformat_minor": 4
}
